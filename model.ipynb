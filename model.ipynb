{
 "cells": [
  {
   "cell_type": "code",
   "execution_count": 4,
   "metadata": {},
   "outputs": [],
   "source": [
    "import nltk\n",
    "import networkx as nx\n",
    "from sklearn.feature_extraction.text import TfidfVectorizer\n",
    "from sklearn.metrics.pairwise import cosine_similarity\n",
    "from nltk.corpus import stopwords\n",
    "from nltk.tokenize import sent_tokenize, word_tokenize"
   ]
  },
  {
   "cell_type": "code",
   "execution_count": 5,
   "metadata": {},
   "outputs": [
    {
     "name": "stderr",
     "output_type": "stream",
     "text": [
      "[nltk_data] Downloading package punkt to\n",
      "[nltk_data]     /Users/sherinsmac/nltk_data...\n",
      "[nltk_data]   Unzipping tokenizers/punkt.zip.\n",
      "[nltk_data] Downloading package stopwords to\n",
      "[nltk_data]     /Users/sherinsmac/nltk_data...\n",
      "[nltk_data]   Unzipping corpora/stopwords.zip.\n"
     ]
    },
    {
     "data": {
      "text/plain": [
       "True"
      ]
     },
     "execution_count": 5,
     "metadata": {},
     "output_type": "execute_result"
    }
   ],
   "source": [
    "# Download NLTK resources \n",
    "nltk.download('punkt')\n",
    "nltk.download('stopwords')"
   ]
  },
  {
   "cell_type": "code",
   "execution_count": 6,
   "metadata": {},
   "outputs": [],
   "source": [
    "def preprocess_text(text):\n",
    "    stop_words = set(stopwords.words('english'))\n",
    "    sentences = sent_tokenize(text)\n",
    "    processed_sentences = []\n",
    "    \n",
    "    for sentence in sentences:\n",
    "        words = word_tokenize(sentence.lower())\n",
    "        words = [word for word in words if word.isalnum() and word not in stop_words]\n",
    "        processed_sentences.append(' '.join(words))\n",
    "    \n",
    "    return sentences, processed_sentences"
   ]
  },
  {
   "cell_type": "code",
   "execution_count": 7,
   "metadata": {},
   "outputs": [],
   "source": [
    "def build_similarity_matrix(sentences):\n",
    "    vectorizer = TfidfVectorizer()\n",
    "    tfidf_matrix = vectorizer.fit_transform(sentences)\n",
    "    similarity_matrix = cosine_similarity(tfidf_matrix)\n",
    "    return similarity_matrix"
   ]
  },
  {
   "cell_type": "code",
   "execution_count": 8,
   "metadata": {},
   "outputs": [],
   "source": [
    "def rank_sentences(similarity_matrix):\n",
    "    nx_graph = nx.from_numpy_array(similarity_matrix)\n",
    "    scores = nx.pagerank(nx_graph)\n",
    "    return scores"
   ]
  },
  {
   "cell_type": "code",
   "execution_count": 9,
   "metadata": {},
   "outputs": [],
   "source": [
    "def summarize_text(text, num_sentences=3):\n",
    "    original_sentences, processed_sentences = preprocess_text(text)\n",
    "    similarity_matrix = build_similarity_matrix(processed_sentences)\n",
    "    scores = rank_sentences(similarity_matrix)\n",
    "    \n",
    "    ranked_sentences = sorted(((scores[i], s) for i, s in enumerate(original_sentences)), reverse=True)\n",
    "    \n",
    "    summary = ' '.join([sentence for score, sentence in ranked_sentences[:num_sentences]])\n",
    "    return summary"
   ]
  },
  {
   "cell_type": "code",
   "execution_count": 14,
   "metadata": {},
   "outputs": [],
   "source": [
    "text = \"\"\"VIENTIANE, Laos (AP) — The United States and China on Saturday renewed their mutual grievances as U.S. Secretary of State Antony Blinken and his Chinese counterpart held their sixth meeting since last year amid an uncertain political situation in the U.S. and growing concerns about China’s increasing assertiveness in Asia and elsewhere.\n",
    "\n",
    "Blinken and Chinese Foreign Minister Wang Yi met for roughly an hour and 20 minutes on the sidelines of an annual Southeast Asian regional security forum in Vientiane, Laos, at which tensions between China and U.S. ally Philippines over disputes in the South China Sea were a prime focus of discussion.\n",
    "\n",
    "U.S. State Department spokesman Matthew Miller said Blinken and Wang had had “an open and productive” discussion but had not reached any significant agreements on the issues that divide them most in the Indo-Pacific, Europe and the Americas.\"\"\""
   ]
  },
  {
   "cell_type": "code",
   "execution_count": 15,
   "metadata": {},
   "outputs": [
    {
     "name": "stdout",
     "output_type": "stream",
     "text": [
      "Blinken and Chinese Foreign Minister Wang Yi met for roughly an hour and 20 minutes on the sidelines of an annual Southeast Asian regional security forum in Vientiane, Laos, at which tensions between China and U.S. ally Philippines over disputes in the South China Sea were a prime focus of discussion. VIENTIANE, Laos (AP) — The United States and China on Saturday renewed their mutual grievances as U.S. Secretary of State Antony Blinken and his Chinese counterpart held their sixth meeting since last year amid an uncertain political situation in the U.S. and growing concerns about China’s increasing assertiveness in Asia and elsewhere. U.S. State Department spokesman Matthew Miller said Blinken and Wang had had “an open and productive” discussion but had not reached any significant agreements on the issues that divide them most in the Indo-Pacific, Europe and the Americas.\n"
     ]
    }
   ],
   "source": [
    "summary = summarize_text(text, num_sentences=3)\n",
    "print(summary)"
   ]
  }
 ],
 "metadata": {
  "kernelspec": {
   "display_name": ".venv",
   "language": "python",
   "name": "python3"
  },
  "language_info": {
   "codemirror_mode": {
    "name": "ipython",
    "version": 3
   },
   "file_extension": ".py",
   "mimetype": "text/x-python",
   "name": "python",
   "nbconvert_exporter": "python",
   "pygments_lexer": "ipython3",
   "version": "3.12.4"
  }
 },
 "nbformat": 4,
 "nbformat_minor": 2
}
